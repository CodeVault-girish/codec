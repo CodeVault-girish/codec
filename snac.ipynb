{
 "cells": [
  {
   "cell_type": "markdown",
   "id": "a5324f20-e842-4d0c-9595-9faf3b4564dd",
   "metadata": {
    "jp-MarkdownHeadingCollapsed": true
   },
   "source": [
    "# ------------32"
   ]
  },
  {
   "cell_type": "code",
   "execution_count": 1,
   "id": "b2946f50-ad80-4238-9b0e-c798eb9dc26f",
   "metadata": {},
   "outputs": [],
   "source": [
    "import torch\n",
    "from snac import SNAC"
   ]
  },
  {
   "cell_type": "code",
   "execution_count": 2,
   "id": "d61a9df7-8c70-45b6-a708-f0f1378aeb34",
   "metadata": {},
   "outputs": [
    {
     "name": "stderr",
     "output_type": "stream",
     "text": [
      "/home/girish/anaconda3/envs/snac/lib/python3.10/site-packages/tqdm/auto.py:21: TqdmWarning: IProgress not found. Please update jupyter and ipywidgets. See https://ipywidgets.readthedocs.io/en/stable/user_install.html\n",
      "  from .autonotebook import tqdm as notebook_tqdm\n",
      "/home/girish/anaconda3/envs/snac/lib/python3.10/site-packages/snac/snac.py:108: FutureWarning: You are using `torch.load` with `weights_only=False` (the current default value), which uses the default pickle module implicitly. It is possible to construct malicious pickle data which will execute arbitrary code during unpickling (See https://github.com/pytorch/pytorch/blob/main/SECURITY.md#untrusted-models for more details). In a future release, the default value for `weights_only` will be flipped to `True`. This limits the functions that could be executed during unpickling. Arbitrary objects will no longer be allowed to be loaded via this mode unless they are explicitly allowlisted by the user via `torch.serialization.add_safe_globals`. We recommend you start setting `weights_only=True` for any use case where you don't have full control of the loaded file. Please open an issue on GitHub for any issues related to this experimental feature.\n",
      "  state_dict = torch.load(model_path, map_location=\"cpu\")\n"
     ]
    }
   ],
   "source": [
    "model = SNAC.from_pretrained(\"hubertsiuzdak/snac_32khz\").eval().cuda()\n",
    "audio = torch.randn(1, 1, 32000).cuda()"
   ]
  },
  {
   "cell_type": "code",
   "execution_count": 9,
   "id": "57032b6c-b3d3-4dea-893e-4c8b4f113f45",
   "metadata": {},
   "outputs": [
    {
     "name": "stdout",
     "output_type": "stream",
     "text": [
      "Shape of codes[0]: torch.Size([1, 56])\n",
      "Shape of codes[1]: torch.Size([1, 112])\n",
      "Shape of codes[2]: torch.Size([1, 224])\n",
      "Shape of codes[3]: torch.Size([1, 448])\n"
     ]
    }
   ],
   "source": [
    "import torch\n",
    "import torchaudio\n",
    "from torchaudio.transforms import Resample\n",
    "from snac import SNAC\n",
    "model = SNAC.from_pretrained(\"hubertsiuzdak/snac_32khz\").eval().cuda()\n",
    "wav_file_path = \"/home/girish/Girish/RESEARCH/depression_DATA_wavCODEC/edaic_segmented_5second/edaic_segmented_5second/segmented_files/test/620_AUDIO_62.wav\"  # Update with your actual file path\n",
    "waveform, sample_rate = torchaudio.load(wav_file_path)\n",
    "\n",
    "desired_sample_rate = 32000\n",
    "if sample_rate != desired_sample_rate:\n",
    "    resample = Resample(orig_freq=sample_rate, new_freq=desired_sample_rate)\n",
    "    waveform = resample(waveform)\n",
    "\n",
    "if waveform.shape[0] > 1:\n",
    "    waveform = waveform[0:1, :] \n",
    "\n",
    "audio = waveform.unsqueeze(0).cuda()  \n",
    "\n",
    "with torch.inference_mode():\n",
    "    codes = model.encode(audio)\n",
    "    if isinstance(codes, list):\n",
    "        for i, code in enumerate(codes):\n",
    "            print(f\"Shape of codes[{i}]:\", code.shape)\n",
    "    else:\n",
    "        print(\"Shape of codes:\", codes.shape)\n",
    "    \n",
    "    audio_hat = model.decode(codes)\n",
    "\n",
    "output_path = \"reconstructed_audio.wav\"\n",
    "torchaudio.save(output_path, audio_hat.squeeze(0).cpu(), sample_rate=desired_sample_rate)\n"
   ]
  },
  {
   "cell_type": "code",
   "execution_count": 10,
   "id": "7a10fc3f-ea3f-4dcc-8f01-4c8413ef013d",
   "metadata": {},
   "outputs": [
    {
     "name": "stdout",
     "output_type": "stream",
     "text": [
      "[tensor([[1151, 1151, 3375,  520,  763, 2202, 4023, 3375, 1749, 3375, 3375, 1186,\n",
      "         2814, 3795, 2060, 3516, 3795, 2202, 2202, 1151, 2786, 1151, 1151, 1151,\n",
      "         1151, 3116, 1126,  763, 1768,  763,  763, 2724, 1451, 1137, 3745, 2408,\n",
      "         1177, 3770, 1946, 2240, 2060, 3375, 1245, 1151, 2786, 1151, 1151,  763,\n",
      "          478, 1151, 3375, 1740, 1186, 1186, 1186, 1186]], device='cuda:0'), tensor([[1403, 2050, 3929, 2991, 3156, 1778, 2850,  314, 3677, 2354,  681, 2640,\n",
      "          556, 2071, 3760, 2783,  122, 2947, 3156, 1159,  210, 1898,  636,  924,\n",
      "         2603, 3376, 1509, 1071, 1823, 1434, 3923,  417,  437, 4036, 2430, 1302,\n",
      "         3721, 2175, 3007, 1551, 3156, 3156, 3721,  626, 4087, 2791, 1956,  626,\n",
      "         3631, 2118, 3220, 3668, 3965,  832, 2903, 2702, 2288, 1740,  287, 3915,\n",
      "         1818, 3668, 1488, 3721, 3721, 1656, 2153,  491,  715, 2598,   96, 2356,\n",
      "         2768, 1529, 2817, 3002, 1141, 2088, 1842,  961, 3158,  750,  788, 3267,\n",
      "         3423, 2579, 3046, 2716, 1054, 3156, 1893, 2322, 3929, 2883, 4036, 1599,\n",
      "         3612,  528, 3595, 2558, 3124, 2789,  253, 3852, 1758, 1808, 1808, 1808,\n",
      "         1808, 1808, 1808, 1808]], device='cuda:0'), tensor([[ 577, 3764, 3698, 3925, 2566, 4090, 4022, 3603,  336,   78,  946, 1748,\n",
      "         1935, 3390, 3993, 3881, 3103, 2007,  597, 2847, 3855, 1659,  186, 2876,\n",
      "         3279, 1571, 2962, 2463, 1420,  265,  249, 1111, 3379,  690,  610, 1480,\n",
      "         2239, 2813, 3971, 1215, 2655, 1053, 2114,  591, 1048, 1174, 2963, 2116,\n",
      "         3773, 2691, 1164, 2005, 2242, 3910, 2173,  957, 3252, 2187, 1560, 3977,\n",
      "         3303, 1928, 3179, 3598,  719, 2366, 2699, 3547, 3316, 2583, 2704, 3745,\n",
      "         2911, 3585, 3773, 1206,  314,  965,  482, 3746, 2548,   15, 3732, 2614,\n",
      "         1085,  976, 2468, 3832, 2129, 2047, 1621, 3999,  408,  668, 1592, 2916,\n",
      "           45, 3371, 3416, 3389, 1639, 1246, 3844, 3981,  433,  783, 3690, 3668,\n",
      "           24, 3632, 3560, 2752, 1288, 2739, 1685,  851,  743, 3550, 1589,  366,\n",
      "         4001, 3260,  727, 3708,  484, 2466, 2331,  803, 2272, 1926, 1591,  257,\n",
      "          749,  615, 2896, 1974, 2628, 1991,  959, 3488, 3324, 3145, 3156, 1191,\n",
      "         3901,   54, 1280, 2914,  321, 1069, 1509, 3199, 3043, 2473, 1094, 2237,\n",
      "         2532,  541, 2772, 3199, 1200, 2355, 1041, 1990, 3690, 3335, 3923, 3039,\n",
      "         2522, 4045, 3381, 3562,  199, 1964, 1781, 1120, 2900,  764,  823, 2220,\n",
      "         1478, 3942, 2542, 1967, 1628, 3317,  532, 1396, 3456, 1860, 2110, 1188,\n",
      "         3708, 1341, 3039,  295, 3449, 1390, 2790, 1784,  921, 3807, 3253, 1473,\n",
      "         3363,  769,  189, 2649, 3563,  959,  768,  768,  768,  768,  768,  768,\n",
      "          768,  768,  768,  768,  768,  768,  768, 1032]], device='cuda:0'), tensor([[4058,   27,  795,  796, 1931, 1889,  237, 2949, 2072, 1602,  694, 2889,\n",
      "         1803, 2360,  881, 1024,  436, 1965,  401, 3718, 2480, 2447,  150, 4061,\n",
      "          684, 2933, 2260, 1583, 1307, 1417,  751, 1595, 2169, 1069, 1641,  333,\n",
      "         2684, 1611, 3302, 1160, 2577,  529, 2913, 1937, 3418, 2363,  529, 2028,\n",
      "         3475, 1652,  631,  989,  957, 1967, 1982, 1050, 1128, 2985,  212, 2914,\n",
      "         2955, 2985, 2690, 2773, 2464, 2954, 2345,   66, 3133,  470,  534,  101,\n",
      "         1480,  388, 2343,  945, 3565, 2993, 2777, 1009, 2494,   78, 2850, 1265,\n",
      "         2896, 1318, 3960, 2007, 3030,  386, 1019, 2649, 1693, 3561,   96,  272,\n",
      "         3901, 2935, 1434, 1583, 2419, 1491, 3438,  436,  622, 3438, 2229, 2577,\n",
      "          166, 2292,  179, 2636, 1994, 2612, 1544,  221,  182, 1558, 1500, 2617,\n",
      "         1225,  101, 2475, 2698,  345, 1982,  683, 1546, 3367,  802, 1584, 2950,\n",
      "         1058,  414, 1547, 3857, 2340, 4024, 1860,  147, 2717, 1050, 2180,  746,\n",
      "         3003, 1278, 3110, 1244, 1965, 2561, 3298, 3866,  820, 2589, 3901,  707,\n",
      "         1735,  672,  136, 3470, 3459,   36,  224,  490, 2334,  548, 1373,   74,\n",
      "         3177, 2897, 1434,   34, 3044,   65, 2827, 2631, 2096, 3714, 1900, 1558,\n",
      "         3064, 2318, 1849,  129, 1761, 1489, 2070, 1817, 3799, 2950,  395,    6,\n",
      "          497, 1075, 1338, 1277, 2561,  315,  873,  916, 1926, 2998,  426, 3571,\n",
      "          459, 2157, 4006, 3317,  591, 2096, 3728, 2240, 3344,   37, 1728, 1159,\n",
      "         2520, 3050, 1531, 3165, 1728,  908, 1568,  273,  577, 3986,  667, 2951,\n",
      "          924, 2281,  170, 2952, 1698, 1832, 1526,  924, 3810, 3151,  339, 1926,\n",
      "          888,  577,  676, 1762, 2413, 1942, 1729, 1394, 2896, 2494, 3084, 3782,\n",
      "         3405, 3357,  209, 4030, 3580, 3543,  460, 3807, 1659, 2978,  468, 4033,\n",
      "         1564, 1820, 3330, 3676, 2302,  992, 2615, 3304, 2973, 2443, 1984, 1842,\n",
      "          253,  114, 2746,  953, 3175, 3777, 2000, 2122, 1876,    7,   45, 1862,\n",
      "         2224, 2849, 2844,  236,  438,  525, 2305,  345, 4017, 4041, 3176, 1019,\n",
      "          751,  491,  741, 2760, 2080, 2933,  394,  529, 2173, 2547, 1455,  464,\n",
      "          251, 1579, 3282,   39, 4010,  647, 3314, 1397, 1758, 3468, 4017, 1034,\n",
      "         3480, 2441, 1075,  685, 2808, 1334, 2759, 1295, 1000, 3451, 1637, 1923,\n",
      "         1512, 2721, 3994,  441, 1245,   27,  194, 2041,  205, 3550,  485, 2912,\n",
      "         2631,  136, 1833, 3084, 3063, 2897,  840, 1842, 3273, 1164, 3959, 3328,\n",
      "         3230, 3858,  457, 2421, 1263, 3145, 2236, 3159,  218, 2631,  694, 1385,\n",
      "         4058, 3934, 3114, 3822, 2797, 3625, 3934, 3806, 1567, 1283, 2984,  106,\n",
      "         2220, 3050, 1419, 3249, 3451, 2108, 1059, 3365, 1106,  408, 2532, 2266,\n",
      "         2085,  683, 2769, 3478, 1833, 3050,  723, 1265, 3050, 3909, 1445, 1109,\n",
      "          706, 1976, 4070,  369, 1832, 1684,  648, 3238, 2791, 3726, 3688, 1909,\n",
      "         2457, 2457, 2457, 2457, 2457, 2457, 2457, 2457, 2457, 2457, 2457, 2457,\n",
      "         2457, 2457, 2457, 2457, 2457, 2457, 2457, 2457, 2457, 2457, 2457, 2457,\n",
      "         2457, 2457, 3077, 2817]], device='cuda:0')]\n"
     ]
    }
   ],
   "source": [
    "print(codes)"
   ]
  },
  {
   "cell_type": "code",
   "execution_count": 16,
   "id": "f618d6d3-b673-435a-a730-de677bf20566",
   "metadata": {},
   "outputs": [
    {
     "name": "stdout",
     "output_type": "stream",
     "text": [
      "Shape of codes[0]: torch.Size([1, 56])\n",
      "Shape of codes[1]: torch.Size([1, 112])\n",
      "Shape of codes[2]: torch.Size([1, 224])\n",
      "Shape of codes[3]: torch.Size([1, 448])\n"
     ]
    }
   ],
   "source": [
    "if isinstance(codes, list):\n",
    "    for i, code in enumerate(codes):\n",
    "        print(f\"Shape of codes[{i}]:\", code.shape)\n",
    "        #print(f\"Type of codes[{i}]:\", type(code))\n",
    "else:\n",
    "    print(\"Shape of codes:\", codes.shape)"
   ]
  },
  {
   "cell_type": "code",
   "execution_count": 15,
   "id": "4fe53ac3-e272-4053-a178-65dc26ec7320",
   "metadata": {},
   "outputs": [
    {
     "name": "stdout",
     "output_type": "stream",
     "text": [
      "Shape of combined codes: torch.Size([1, 840])\n"
     ]
    }
   ],
   "source": [
    "combined_codes = torch.cat(codes, dim=1)\n",
    "print(\"Shape of combined codes:\", combined_codes.shape)"
   ]
  },
  {
   "cell_type": "markdown",
   "id": "0a36dae1-4366-4de3-93ac-9334ccf8215a",
   "metadata": {
    "jp-MarkdownHeadingCollapsed": true
   },
   "source": [
    "# ----------24"
   ]
  },
  {
   "cell_type": "code",
   "execution_count": 8,
   "id": "98a5b466-d6c3-46b5-8bc9-50b41f85605f",
   "metadata": {},
   "outputs": [
    {
     "name": "stdout",
     "output_type": "stream",
     "text": [
      "Shape of codes[0]: torch.Size([1, 59])\n",
      "Shape of codes[1]: torch.Size([1, 118])\n",
      "Shape of codes[2]: torch.Size([1, 236])\n",
      "Shape of codes[0]: torch.Size([1, 59])\n",
      "Shape of codes[1]: torch.Size([1, 118])\n",
      "Shape of codes[2]: torch.Size([1, 236])\n"
     ]
    }
   ],
   "source": [
    "import torch\n",
    "import torchaudio\n",
    "from torchaudio.transforms import Resample\n",
    "from snac import SNAC\n",
    "model = SNAC.from_pretrained(\"hubertsiuzdak/snac_24khz\").eval().cuda()\n",
    "wav_file_path = \"/home/girish/Girish/RESEARCH/depression_DATA_wavCODEC/edaic_segmented_5second/edaic_segmented_5second/segmented_files/test/620_AUDIO_63.wav\"  # Update with your actual file path\n",
    "waveform, sample_rate = torchaudio.load(wav_file_path)\n",
    "\n",
    "desired_sample_rate = 24000\n",
    "if sample_rate != desired_sample_rate:\n",
    "    resample = Resample(orig_freq=sample_rate, new_freq=desired_sample_rate)\n",
    "    waveform = resample(waveform)\n",
    "\n",
    "if waveform.shape[0] > 1:\n",
    "    waveform = waveform[0:1, :] \n",
    "\n",
    "audio = waveform.unsqueeze(0).cuda()  \n",
    "\n",
    "with torch.inference_mode():\n",
    "    codes = model.encode(audio)\n",
    "    if isinstance(codes, list):\n",
    "        for i, code in enumerate(codes):\n",
    "            print(f\"Shape of codes[{i}]:\", code.shape)\n",
    "    else:\n",
    "        print(\"Shape of codes:\", codes.shape)\n",
    "    \n",
    "#     audio_hat = model.decode(codes)\n",
    "\n",
    "# output_path = \"reconstructed_audio.wav\"\n",
    "# torchaudio.save(output_path, audio_hat.squeeze(0).cpu(), sample_rate=desired_sample_rate)\n",
    "\n",
    "\n",
    "if isinstance(codes, list):\n",
    "    for i, code in enumerate(codes):\n",
    "        print(f\"Shape of codes[{i}]:\", code.shape)\n",
    "        #print(f\"Type of codes[{i}]:\", type(code))\n",
    "else:\n",
    "    print(\"Shape of codes:\", codes.shape)"
   ]
  },
  {
   "cell_type": "code",
   "execution_count": 9,
   "id": "07ae1c31-e99d-4eca-a522-e446be2c5e03",
   "metadata": {},
   "outputs": [
    {
     "name": "stdout",
     "output_type": "stream",
     "text": [
      "Shape of combined codes: torch.Size([1, 413])\n"
     ]
    }
   ],
   "source": [
    "combined_codes = torch.cat(codes, dim=1)\n",
    "print(\"Shape of combined codes:\", combined_codes.shape)"
   ]
  },
  {
   "cell_type": "markdown",
   "id": "5f96f76a-25ee-438e-960e-4a4161b6b4a5",
   "metadata": {
    "jp-MarkdownHeadingCollapsed": true
   },
   "source": [
    "# -------------44khz"
   ]
  },
  {
   "cell_type": "code",
   "execution_count": 5,
   "id": "8a4f7761-d6eb-4cc1-afdf-d576be82f975",
   "metadata": {
    "jupyter": {
     "source_hidden": true
    }
   },
   "outputs": [
    {
     "name": "stdout",
     "output_type": "stream",
     "text": [
      "Shape of codes[0]: torch.Size([1, 72])\n",
      "Shape of codes[1]: torch.Size([1, 144])\n",
      "Shape of codes[2]: torch.Size([1, 288])\n",
      "Shape of codes[3]: torch.Size([1, 576])\n",
      "Shape of codes[0]: torch.Size([1, 72])\n",
      "Shape of codes[1]: torch.Size([1, 144])\n",
      "Shape of codes[2]: torch.Size([1, 288])\n",
      "Shape of codes[3]: torch.Size([1, 576])\n"
     ]
    }
   ],
   "source": [
    "import torch\n",
    "import torchaudio\n",
    "from torchaudio.transforms import Resample\n",
    "from snac import SNAC\n",
    "model = SNAC.from_pretrained(\"hubertsiuzdak/snac_44khz\").eval().cuda()\n",
    "wav_file_path = \"/home/girish/Girish/RESEARCH/depression_DATA_wavCODEC/edaic_segmented_5second/edaic_segmented_5second/segmented_files/test/620_AUDIO_62.wav\"  # Update with your actual file path\n",
    "waveform, sample_rate = torchaudio.load(wav_file_path)\n",
    "\n",
    "desired_sample_rate = 44100\n",
    "if sample_rate != desired_sample_rate:\n",
    "    resample = Resample(orig_freq=sample_rate, new_freq=desired_sample_rate)\n",
    "    waveform = resample(waveform)\n",
    "\n",
    "if waveform.shape[0] > 1:\n",
    "    waveform = waveform[0:1, :] \n",
    "\n",
    "audio = waveform.unsqueeze(0).cuda()  \n",
    "\n",
    "with torch.inference_mode():\n",
    "    codes = model.encode(audio)\n",
    "    if isinstance(codes, list):\n",
    "        for i, code in enumerate(codes):\n",
    "            print(f\"Shape of codes[{i}]:\", code.shape)\n",
    "    else:\n",
    "        print(\"Shape of codes:\", codes.shape)\n",
    "    \n",
    "    audio_hat = model.decode(codes)\n",
    "\n",
    "output_path = \"reconstructed_audio.wav\"\n",
    "torchaudio.save(output_path, audio_hat.squeeze(0).cpu(), sample_rate=desired_sample_rate)\n",
    "\n",
    "\n",
    "if isinstance(codes, list):\n",
    "    for i, code in enumerate(codes):\n",
    "        print(f\"Shape of codes[{i}]:\", code.shape)\n",
    "        #print(f\"Type of codes[{i}]:\", type(code))\n",
    "else:\n",
    "    print(\"Shape of codes:\", codes.shape)"
   ]
  },
  {
   "cell_type": "code",
   "execution_count": 7,
   "id": "cec956d6-d866-436c-8c20-dd1874406756",
   "metadata": {
    "jupyter": {
     "source_hidden": true
    }
   },
   "outputs": [
    {
     "name": "stdout",
     "output_type": "stream",
     "text": [
      "Shape of codes[0]: torch.Size([1, 72])\n",
      "Shape of codes[1]: torch.Size([1, 144])\n",
      "Shape of codes[2]: torch.Size([1, 288])\n",
      "Shape of codes[3]: torch.Size([1, 576])\n",
      "Shape of codes[0]: torch.Size([1, 72])\n",
      "Shape of codes[1]: torch.Size([1, 144])\n",
      "Shape of codes[2]: torch.Size([1, 288])\n",
      "Shape of codes[3]: torch.Size([1, 576])\n"
     ]
    }
   ],
   "source": [
    "import torch\n",
    "import torchaudio\n",
    "from torchaudio.transforms import Resample\n",
    "from snac import SNAC\n",
    "model = SNAC.from_pretrained(\"hubertsiuzdak/snac_44khz\").eval().cuda()\n",
    "wav_file_path = \"/home/girish/Girish/RESEARCH/depression_DATA_wavCODEC/edaic_segmented_5second/edaic_segmented_5second/segmented_files/test/620_AUDIO_62.wav\"  # Update with your actual file path\n",
    "waveform, sample_rate = torchaudio.load(wav_file_path)\n",
    "\n",
    "desired_sample_rate = 44100\n",
    "if sample_rate != desired_sample_rate:\n",
    "    resample = Resample(orig_freq=sample_rate, new_freq=desired_sample_rate)\n",
    "    waveform = resample(waveform)\n",
    "\n",
    "if waveform.shape[0] > 1:\n",
    "    waveform = waveform[0:1, :] \n",
    "\n",
    "audio = waveform.unsqueeze(0).cuda()  \n",
    "\n",
    "with torch.inference_mode():\n",
    "    codes = model.encode(audio)\n",
    "    if isinstance(codes, list):\n",
    "        for i, code in enumerate(codes):\n",
    "            print(f\"Shape of codes[{i}]:\", code.shape)\n",
    "    else:\n",
    "        print(\"Shape of codes:\", codes.shape)\n",
    "    \n",
    "    audio_hat = model.decode(codes)\n",
    "\n",
    "output_path = \"reconstructed_audio.wav\"\n",
    "torchaudio.save(output_path, audio_hat.squeeze(0).cpu(), sample_rate=desired_sample_rate)\n",
    "\n",
    "\n",
    "if isinstance(codes, list):\n",
    "    for i, code in enumerate(codes):\n",
    "        print(f\"Shape of codes[{i}]:\", code.shape)\n",
    "        #print(f\"Type of codes[{i}]:\", type(code))\n",
    "else:\n",
    "    print(\"Shape of codes:\", codes.shape)"
   ]
  },
  {
   "cell_type": "markdown",
   "id": "ce078099-fe65-472d-a536-156738f33dd5",
   "metadata": {
    "jp-MarkdownHeadingCollapsed": true
   },
   "source": [
    "# ------------------   24khz"
   ]
  },
  {
   "cell_type": "code",
   "execution_count": null,
   "id": "aa98a774-185d-44c7-9e1d-dc74032ae59a",
   "metadata": {},
   "outputs": [],
   "source": [
    "import torch\n",
    "import torchaudio\n",
    "from torchaudio.transforms import Resample\n",
    "from snac import SNAC\n",
    "model = SNAC.from_pretrained(\"hubertsiuzdak/snac_24khz\").eval().cuda()\n",
    "wav_file_path = \"/home/girish/Girish/RESEARCH/depression_DATA_wavCODEC/edaic_segmented_5second/edaic_segmented_5second/segmented_files/test/620_AUDIO_63.wav\"  # Update with your actual file path\n",
    "waveform, sample_rate = torchaudio.load(wav_file_path)\n",
    "\n",
    "desired_sample_rate = 24000\n",
    "if sample_rate != desired_sample_rate:\n",
    "    resample = Resample(orig_freq=sample_rate, new_freq=desired_sample_rate)\n",
    "    waveform = resample(waveform)\n",
    "\n",
    "if waveform.shape[0] > 1:\n",
    "    waveform = waveform[0:1, :] \n",
    "\n",
    "audio = waveform.unsqueeze(0).cuda()  \n",
    "\n",
    "with torch.inference_mode():\n",
    "    codes = model.encode(audio)\n",
    "    if isinstance(codes, list):\n",
    "        for i, code in enumerate(codes):\n",
    "            print(f\"Shape of codes[{i}]:\", code.shape)\n",
    "    else:\n",
    "        print(\"Shape of codes:\", codes.shape)\n",
    "    \n",
    "\n",
    "if isinstance(codes, list):\n",
    "    for i, code in enumerate(codes):\n",
    "        print(f\"Shape of codes[{i}]:\", code.shape)\n",
    "        #print(f\"Type of codes[{i}]:\", type(code))\n",
    "else:\n",
    "    print(\"Shape of codes:\", codes.shape)"
   ]
  }
 ],
 "metadata": {
  "kernelspec": {
   "display_name": "Python (snac)",
   "language": "python",
   "name": "snac"
  },
  "language_info": {
   "codemirror_mode": {
    "name": "ipython",
    "version": 3
   },
   "file_extension": ".py",
   "mimetype": "text/x-python",
   "name": "python",
   "nbconvert_exporter": "python",
   "pygments_lexer": "ipython3",
   "version": "3.10.15"
  }
 },
 "nbformat": 4,
 "nbformat_minor": 5
}
