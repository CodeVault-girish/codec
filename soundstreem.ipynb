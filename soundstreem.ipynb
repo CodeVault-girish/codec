{
 "cells": [
  {
   "cell_type": "code",
   "execution_count": null,
   "id": "278e7a46",
   "metadata": {},
   "outputs": [],
   "source": [
    "pip install soundstream"
   ]
  },
  {
   "cell_type": "code",
   "execution_count": 1,
   "id": "83d87709-1a67-42b8-836d-abbab836e2b6",
   "metadata": {},
   "outputs": [
    {
     "name": "stderr",
     "output_type": "stream",
     "text": [
      "/home/girish/anaconda3/envs/soundstream/lib/python3.10/site-packages/tqdm/auto.py:21: TqdmWarning: IProgress not found. Please update jupyter and ipywidgets. See https://ipywidgets.readthedocs.io/en/stable/user_install.html\n",
      "  from .autonotebook import tqdm as notebook_tqdm\n"
     ]
    }
   ],
   "source": [
    "import torchaudio\n",
    "\n",
    "from soundstream import from_pretrained, load"
   ]
  },
  {
   "cell_type": "code",
   "execution_count": 2,
   "id": "3ab73061-53c8-4035-bba2-0c80687a2cf8",
   "metadata": {},
   "outputs": [
    {
     "name": "stderr",
     "output_type": "stream",
     "text": [
      "Downloading (…)nt_naturalspeech2.pt: 100%|███████████████████████████████████████████| 143M/143M [00:41<00:00, 3.42MB/s]\n",
      "/home/girish/anaconda3/envs/soundstream/lib/python3.10/site-packages/soundstream/__init__.py:35: FutureWarning: You are using `torch.load` with `weights_only=False` (the current default value), which uses the default pickle module implicitly. It is possible to construct malicious pickle data which will execute arbitrary code during unpickling (See https://github.com/pytorch/pytorch/blob/main/SECURITY.md#untrusted-models for more details). In a future release, the default value for `weights_only` will be flipped to `True`. This limits the functions that could be executed during unpickling. Arbitrary objects will no longer be allowed to be loaded via this mode unless they are explicitly allowlisted by the user via `torch.serialization.add_safe_globals`. We recommend you start setting `weights_only=True` for any use case where you don't have full control of the loaded file. Please open an issue on GitHub for any issues related to this experimental feature.\n",
      "  torch.load(checkpoint_path, map_location=device)\n"
     ]
    }
   ],
   "source": [
    "waveform = load('/home/girish/Girish/RESEARCH/depression_DATA_wavCODEC/edaic_segmented_5second/edaic_segmented_5second/segmented_files/test/620_AUDIO_62.wav')\n",
    "audio_codec = from_pretrained() \n",
    "\n",
    "quantized = audio_codec(waveform, mode='encode')\n",
    "recovered = audio_codec(quantized, mode='decode')\n",
    "\n",
    "torchaudio.save('out.wav', recovered[0], 16000)"
   ]
  },
  {
   "cell_type": "code",
   "execution_count": 10,
   "id": "d1bc9427-b2e6-434a-855f-41c5f74ee55c",
   "metadata": {},
   "outputs": [
    {
     "name": "stdout",
     "output_type": "stream",
     "text": [
      "torch.Size([400, 256])\n"
     ]
    }
   ],
   "source": [
    "print(quantized.squeeze().shape)"
   ]
  },
  {
   "cell_type": "code",
   "execution_count": 19,
   "id": "74aee418-5dce-478b-97c9-7f70d2ab3b14",
   "metadata": {},
   "outputs": [
    {
     "name": "stdout",
     "output_type": "stream",
     "text": [
      "tensor([[-0.0225,  0.0979,  0.2217,  ...,  0.4354,  0.0518, -0.3353],\n",
      "        [-0.0220, -0.0156,  0.0504,  ...,  0.2097, -0.5930,  0.0954],\n",
      "        [ 0.1251, -0.0427,  0.0427,  ...,  0.1024, -1.0428,  0.0357],\n",
      "        ...,\n",
      "        [-0.1343,  0.3019, -0.0302,  ..., -0.7759, -0.1442,  0.3840],\n",
      "        [ 0.2785, -0.6767, -0.2164,  ...,  1.1040, -0.8486,  0.3310],\n",
      "        [ 0.1539, -0.1283, -0.1355,  ..., -0.3518,  0.6766,  0.2185]],\n",
      "       grad_fn=<SqueezeBackward0>)\n"
     ]
    }
   ],
   "source": [
    "print(quantized.squeeze())"
   ]
  },
  {
   "cell_type": "code",
   "execution_count": 12,
   "id": "cb58f829-2737-4ea7-8a2b-c948a2691592",
   "metadata": {},
   "outputs": [
    {
     "name": "stdout",
     "output_type": "stream",
     "text": [
      "torch.Size([256])\n"
     ]
    }
   ],
   "source": [
    "print(quantized.squeeze().float().mean(dim=0).shape)"
   ]
  },
  {
   "cell_type": "code",
   "execution_count": 13,
   "id": "40886679-c9da-49af-ac9d-8c997a0146f4",
   "metadata": {},
   "outputs": [
    {
     "name": "stdout",
     "output_type": "stream",
     "text": [
      "tensor([ 5.2620e-03, -1.3529e-02, -2.8629e-02, -1.0998e-02,  5.3564e-03,\n",
      "         9.3098e-03, -4.0186e-02,  3.3174e-02,  2.5929e-02, -8.5583e-03,\n",
      "         1.6324e-02, -9.7207e-03,  3.6596e-03, -3.2731e-02,  1.8637e-02,\n",
      "         3.5543e-02, -2.5786e-02,  1.0750e-02, -6.8302e-04,  4.9442e-02,\n",
      "         1.3519e-02, -2.1147e-02,  2.4792e-02,  2.1093e-02, -4.7846e-02,\n",
      "        -2.4653e-02,  4.3333e-03, -5.9818e-03,  3.4861e-04,  1.1301e-02,\n",
      "        -1.7666e-02, -1.0029e-02, -6.8289e-03, -2.1606e-02,  1.8513e-02,\n",
      "        -1.1290e-02,  1.9513e-02, -2.9469e-02,  1.5081e-02, -2.1789e-02,\n",
      "         6.9515e-03, -1.6408e-02, -8.3200e-03, -3.1011e-02, -1.9562e-02,\n",
      "        -3.7069e-03, -3.2628e-02,  1.7460e-02, -1.4486e-02, -2.5599e-03,\n",
      "         1.4377e-03, -2.5774e-02,  3.8303e-02,  1.5526e-02, -2.1759e-02,\n",
      "        -1.7606e-02, -3.0932e-02, -2.0930e-02,  7.5524e-03,  1.4036e-03,\n",
      "        -2.1100e-02, -1.0842e-02, -1.7531e-02,  9.6162e-03,  1.2854e-02,\n",
      "        -2.0388e-02,  2.8979e-02,  4.1797e-03, -1.7786e-03,  1.6008e-02,\n",
      "        -2.5890e-02,  1.1063e-02,  7.4581e-03, -9.7459e-03, -1.9089e-02,\n",
      "        -1.3924e-02,  8.7283e-04, -1.9322e-02,  2.1887e-02, -3.2673e-02,\n",
      "         1.5055e-02, -2.9334e-03, -2.0979e-02, -6.1555e-03,  3.6624e-03,\n",
      "        -3.3074e-02,  3.2062e-02,  1.6807e-02, -2.8363e-02, -1.5672e-02,\n",
      "        -7.9256e-03,  8.9944e-03, -1.0197e-02, -6.4924e-03,  3.5353e-02,\n",
      "         1.5064e-02, -2.1845e-02,  5.8692e-04,  2.9922e-03, -1.6323e-02,\n",
      "        -1.0116e-03, -8.6433e-03, -1.6602e-02, -1.3314e-02, -2.0592e-02,\n",
      "         1.5443e-02, -1.2319e-02, -6.0087e-03,  2.3180e-02, -1.3621e-02,\n",
      "        -1.3318e-02,  1.2852e-02, -1.3490e-02, -7.1757e-03, -2.1324e-02,\n",
      "        -5.1462e-03, -3.0326e-03, -1.2978e-02,  3.1774e-02,  2.4991e-02,\n",
      "        -2.0184e-02,  1.3986e-02,  1.7139e-02,  1.0809e-02,  4.4034e-03,\n",
      "         4.6402e-02,  1.7239e-02,  2.9861e-03,  6.9200e-03,  1.7737e-02,\n",
      "        -5.3095e-03,  7.7330e-03, -4.0057e-02,  2.3502e-03,  8.8642e-03,\n",
      "        -3.6939e-03,  2.2791e-02, -1.3935e-03, -1.1933e-03, -3.8942e-02,\n",
      "        -5.1331e-03,  2.5943e-02,  1.4297e-02,  2.5177e-02,  6.9822e-03,\n",
      "        -7.6263e-03,  1.5670e-02, -9.8090e-03, -6.5257e-03, -6.9792e-03,\n",
      "        -3.0625e-02, -1.2383e-02, -7.0532e-03, -8.3018e-03,  1.8890e-02,\n",
      "         2.6591e-02, -1.5469e-02,  2.9744e-03,  1.1748e-02, -1.5451e-02,\n",
      "         3.1097e-02, -2.8773e-02,  2.1294e-02, -2.5163e-02,  1.5020e-02,\n",
      "         1.2026e-02, -3.5263e-02, -4.4570e-03, -1.0917e-02, -4.4576e-03,\n",
      "         9.7213e-04, -6.7406e-03, -1.1086e-02, -2.7831e-02, -1.3497e-02,\n",
      "         9.7752e-04,  1.7354e-02, -1.4320e-03,  1.7062e-02, -8.5572e-03,\n",
      "         5.9991e-03, -9.3377e-03, -4.8608e-03, -1.8265e-02, -1.3551e-02,\n",
      "         6.6151e-02, -2.8428e-02,  4.7486e-02, -2.9037e-02,  1.7537e-02,\n",
      "        -4.3572e-03,  3.8652e-02, -2.4877e-02,  2.3430e-02,  1.5858e-03,\n",
      "         4.5961e-03,  1.2393e-03,  1.4671e-02, -1.6769e-02,  4.7407e-03,\n",
      "        -1.2379e-03, -1.2797e-02, -8.2801e-03, -4.1503e-03, -1.4966e-02,\n",
      "         7.4087e-03,  1.1334e-03, -1.4575e-02, -9.3107e-03, -1.3090e-02,\n",
      "        -3.6683e-02,  3.8622e-03, -4.1093e-03,  3.3568e-03, -1.4917e-02,\n",
      "        -6.9526e-03, -1.2031e-02, -2.8701e-04, -3.7713e-02,  2.8207e-03,\n",
      "         2.9340e-02,  1.9367e-02,  1.1872e-02, -1.2642e-02, -2.9834e-02,\n",
      "         1.8496e-03,  5.5065e-03, -1.1780e-02,  7.8718e-03,  1.1928e-02,\n",
      "         1.1779e-02,  4.4477e-02, -2.7236e-03,  1.3706e-02, -8.6869e-03,\n",
      "         2.5165e-02, -5.1910e-02,  9.8521e-03, -2.2090e-02, -1.1301e-02,\n",
      "         6.7938e-03,  4.5217e-03, -2.7730e-03, -8.0973e-05,  2.7533e-02,\n",
      "         5.5307e-03, -7.0423e-03,  1.6762e-02, -3.6738e-03,  1.1966e-02,\n",
      "        -3.8287e-03,  9.4358e-04, -4.5408e-03,  8.3310e-03,  1.5530e-02,\n",
      "         5.5834e-02], grad_fn=<MeanBackward1>)\n"
     ]
    }
   ],
   "source": [
    "print(quantized.squeeze().float().mean(dim=0))"
   ]
  },
  {
   "cell_type": "code",
   "execution_count": null,
   "id": "9a6b2b34-ecb2-47b4-8fac-aeeb0f81d6ad",
   "metadata": {},
   "outputs": [],
   "source": [
    "\n",
    "waveform = load('/home/girish/Girish/RESEARCH/depression_DATA_wavCODEC/edaic_segmented_5second/edaic_segmented_5second/segmented_files/test/620_AUDIO_62.wav')\n",
    "audio_codec = from_pretrained() \n",
    "\n",
    "quantized = audio_codec(waveform, mode='encode')\n",
    "print(quantized.squeeze().float().mean(dim=0).shape)\n",
    "print(quantized.squeeze().float().mean(dim=0))"
   ]
  },
  {
   "cell_type": "code",
   "execution_count": null,
   "id": "8ddd41bd-e07d-485e-9a23-2ea14b691e63",
   "metadata": {},
   "outputs": [],
   "source": [
    "import os\n",
    "import pandas as pd\n",
    "import numpy as np\n",
    "import torch\n",
    "import torchaudio\n",
    "from soundstream import from_pretrained, load\n",
    "\n",
    "folder_path = r\"wav folder path\"\n",
    "\n",
    "device = torch.device(\"cuda\" if torch.cuda.is_available() else \"cpu\")\n",
    "\n",
    "filenames = []\n",
    "quantized_features_list = []\n",
    "quantized_avg_features_list = []\n",
    "\n",
    "audio_codec = from_pretrained().to(device)\n",
    "\n",
    "for filename in os.listdir(folder_path):\n",
    "    if filename.endswith(\".wav\"):\n",
    "        file_path = os.path.join(folder_path, filename)\n",
    "        \n",
    "        waveform = load(file_path).to(device)\n",
    "        \n",
    "        quantized = audio_codec(waveform, mode='encode')\n",
    "        \n",
    "        quantized_avg = quantized.squeeze().float().mean(dim=0).detach().cpu().numpy()\n",
    "        \n",
    "        filenames.append(filename)\n",
    "        quantized_features_list.append(quantized.detach().cpu().numpy())  \n",
    "        quantized_avg_features_list.append(quantized_avg)  \n",
    "\n",
    "quantized_avg_features_df = pd.DataFrame(quantized_avg_features_list, columns=[f'{i}' for i in range(1, quantized_avg.shape[0] + 1)])\n",
    "quantized_avg_features_df.insert(0, 'filename', filenames)\n",
    "\n",
    "quantized_avg_features_df.to_csv(r'output file path.csv', index=False)\n",
    "\n",
    "print(\"Averaged quantized features for all files have been saved to soundstream_heart.csv\")\n"
   ]
  },
  {
   "cell_type": "code",
   "execution_count": null,
   "id": "a2d1b18b-310a-4866-80c5-eddf40f8109a",
   "metadata": {},
   "outputs": [],
   "source": []
  }
 ],
 "metadata": {
  "kernelspec": {
   "display_name": "Python (soudstreem)",
   "language": "python",
   "name": "soudstreem"
  },
  "language_info": {
   "codemirror_mode": {
    "name": "ipython",
    "version": 3
   },
   "file_extension": ".py",
   "mimetype": "text/x-python",
   "name": "python",
   "nbconvert_exporter": "python",
   "pygments_lexer": "ipython3",
   "version": "3.10.15"
  }
 },
 "nbformat": 4,
 "nbformat_minor": 5
}
